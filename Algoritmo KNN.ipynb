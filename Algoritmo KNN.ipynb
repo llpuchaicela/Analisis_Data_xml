{
 "cells": [
  {
   "cell_type": "code",
   "execution_count": 21,
   "id": "481682b0",
   "metadata": {},
   "outputs": [],
   "source": [
    "import pandas as pd\n",
    "import numpy as np\n",
    "import matplotlib.pyplot as plt\n",
    "from matplotlib.colors import ListedColormap\n",
    "import matplotlib.patches as mpatches\n",
    "import seaborn as sb\n",
    "from sklearn.manifold import TSNE\n",
    "\n",
    "%matplotlib inline\n",
    "plt.rcParams['figure.figsize'] = (16, 9)\n",
    "plt.style.use('ggplot')\n",
    " \n",
    "from sklearn.model_selection import train_test_split\n",
    "from sklearn.preprocessing import MinMaxScaler\n",
    "from sklearn.neighbors import KNeighborsClassifier\n",
    "from sklearn.metrics import classification_report\n",
    "from sklearn.metrics import confusion_matrix"
   ]
  },
  {
   "cell_type": "code",
   "execution_count": 22,
   "id": "883a9ad9",
   "metadata": {},
   "outputs": [
    {
     "data": {
      "text/html": [
       "<div>\n",
       "<style scoped>\n",
       "    .dataframe tbody tr th:only-of-type {\n",
       "        vertical-align: middle;\n",
       "    }\n",
       "\n",
       "    .dataframe tbody tr th {\n",
       "        vertical-align: top;\n",
       "    }\n",
       "\n",
       "    .dataframe thead th {\n",
       "        text-align: right;\n",
       "    }\n",
       "</style>\n",
       "<table border=\"1\" class=\"dataframe\">\n",
       "  <thead>\n",
       "    <tr style=\"text-align: right;\">\n",
       "      <th></th>\n",
       "      <th>Unnamed: 0</th>\n",
       "      <th>Content</th>\n",
       "      <th>Sentiment</th>\n",
       "    </tr>\n",
       "  </thead>\n",
       "  <tbody>\n",
       "    <tr>\n",
       "      <th>0</th>\n",
       "      <td>0</td>\n",
       "      <td>@NoilyMV yo soy totalmente puntual</td>\n",
       "      <td>NONE</td>\n",
       "    </tr>\n",
       "    <tr>\n",
       "      <th>1</th>\n",
       "      <td>1</td>\n",
       "      <td>@SandraCauffman Hola Sandrita. No le habia des...</td>\n",
       "      <td>P</td>\n",
       "    </tr>\n",
       "    <tr>\n",
       "      <th>2</th>\n",
       "      <td>2</td>\n",
       "      <td>Si andan haciendo eso mejor se quedaran callad...</td>\n",
       "      <td>N</td>\n",
       "    </tr>\n",
       "    <tr>\n",
       "      <th>3</th>\n",
       "      <td>3</td>\n",
       "      <td>Que pereza quiero choco banano</td>\n",
       "      <td>N</td>\n",
       "    </tr>\n",
       "    <tr>\n",
       "      <th>4</th>\n",
       "      <td>4</td>\n",
       "      <td>@robertobrenes Bueno, no es tanto lo mayor com...</td>\n",
       "      <td>N</td>\n",
       "    </tr>\n",
       "    <tr>\n",
       "      <th>...</th>\n",
       "      <td>...</td>\n",
       "      <td>...</td>\n",
       "      <td>...</td>\n",
       "    </tr>\n",
       "    <tr>\n",
       "      <th>3670</th>\n",
       "      <td>938</td>\n",
       "      <td>@AmorAKilates @Roocio_Mk si me pasa lo mismo!</td>\n",
       "      <td>NONE</td>\n",
       "    </tr>\n",
       "    <tr>\n",
       "      <th>3671</th>\n",
       "      <td>939</td>\n",
       "      <td>@clauchoarrionda pquno ladra y ls demas retwitean</td>\n",
       "      <td>NEU</td>\n",
       "    </tr>\n",
       "    <tr>\n",
       "      <th>3672</th>\n",
       "      <td>940</td>\n",
       "      <td>A mi desayuno le hizo falta un alfajor podrida...</td>\n",
       "      <td>N</td>\n",
       "    </tr>\n",
       "    <tr>\n",
       "      <th>3673</th>\n",
       "      <td>941</td>\n",
       "      <td>Viste cuando necesitas que alguien te escuche ...</td>\n",
       "      <td>N</td>\n",
       "    </tr>\n",
       "    <tr>\n",
       "      <th>3674</th>\n",
       "      <td>942</td>\n",
       "      <td>@cuervotinelli @candetinelli Mañana es mi prim...</td>\n",
       "      <td>NEU</td>\n",
       "    </tr>\n",
       "  </tbody>\n",
       "</table>\n",
       "<p>3675 rows × 3 columns</p>\n",
       "</div>"
      ],
      "text/plain": [
       "      Unnamed: 0                                            Content Sentiment\n",
       "0              0                 @NoilyMV yo soy totalmente puntual      NONE\n",
       "1              1  @SandraCauffman Hola Sandrita. No le habia des...         P\n",
       "2              2  Si andan haciendo eso mejor se quedaran callad...         N\n",
       "3              3                     Que pereza quiero choco banano         N\n",
       "4              4  @robertobrenes Bueno, no es tanto lo mayor com...         N\n",
       "...          ...                                                ...       ...\n",
       "3670         938      @AmorAKilates @Roocio_Mk si me pasa lo mismo!      NONE\n",
       "3671         939  @clauchoarrionda pquno ladra y ls demas retwitean       NEU\n",
       "3672         940  A mi desayuno le hizo falta un alfajor podrida...         N\n",
       "3673         941  Viste cuando necesitas que alguien te escuche ...         N\n",
       "3674         942  @cuervotinelli @candetinelli Mañana es mi prim...       NEU\n",
       "\n",
       "[3675 rows x 3 columns]"
      ]
     },
     "execution_count": 22,
     "metadata": {},
     "output_type": "execute_result"
    }
   ],
   "source": [
    "df= pd.read_csv(\"CSV_Informacion_Categorizada/cont_sent_CR_PE_MX_UY.csv\", sep =\"|\")\n",
    "df"
   ]
  },
  {
   "cell_type": "code",
   "execution_count": 23,
   "id": "2670ded2",
   "metadata": {},
   "outputs": [
    {
     "name": "stdout",
     "output_type": "stream",
     "text": [
      "Sentiment\n",
      "N       1410\n",
      "NEU      532\n",
      "NONE     694\n",
      "P       1039\n",
      "dtype: int64\n"
     ]
    }
   ],
   "source": [
    "# Vizualizar cuantas valoraciones tenemos\n",
    "print(df.groupby('Sentiment').size())"
   ]
  },
  {
   "cell_type": "code",
   "execution_count": 24,
   "id": "d1ed8934",
   "metadata": {},
   "outputs": [
    {
     "data": {
      "text/html": [
       "<div>\n",
       "<style scoped>\n",
       "    .dataframe tbody tr th:only-of-type {\n",
       "        vertical-align: middle;\n",
       "    }\n",
       "\n",
       "    .dataframe tbody tr th {\n",
       "        vertical-align: top;\n",
       "    }\n",
       "\n",
       "    .dataframe thead th {\n",
       "        text-align: right;\n",
       "    }\n",
       "</style>\n",
       "<table border=\"1\" class=\"dataframe\">\n",
       "  <thead>\n",
       "    <tr style=\"text-align: right;\">\n",
       "      <th></th>\n",
       "      <th>Unnamed: 0</th>\n",
       "    </tr>\n",
       "  </thead>\n",
       "  <tbody>\n",
       "    <tr>\n",
       "      <th>count</th>\n",
       "      <td>3675.000000</td>\n",
       "    </tr>\n",
       "    <tr>\n",
       "      <th>mean</th>\n",
       "      <td>462.663946</td>\n",
       "    </tr>\n",
       "    <tr>\n",
       "      <th>std</th>\n",
       "      <td>271.316143</td>\n",
       "    </tr>\n",
       "    <tr>\n",
       "      <th>min</th>\n",
       "      <td>0.000000</td>\n",
       "    </tr>\n",
       "    <tr>\n",
       "      <th>25%</th>\n",
       "      <td>229.000000</td>\n",
       "    </tr>\n",
       "    <tr>\n",
       "      <th>50%</th>\n",
       "      <td>459.000000</td>\n",
       "    </tr>\n",
       "    <tr>\n",
       "      <th>75%</th>\n",
       "      <td>688.500000</td>\n",
       "    </tr>\n",
       "    <tr>\n",
       "      <th>max</th>\n",
       "      <td>988.000000</td>\n",
       "    </tr>\n",
       "  </tbody>\n",
       "</table>\n",
       "</div>"
      ],
      "text/plain": [
       "        Unnamed: 0\n",
       "count  3675.000000\n",
       "mean    462.663946\n",
       "std     271.316143\n",
       "min       0.000000\n",
       "25%     229.000000\n",
       "50%     459.000000\n",
       "75%     688.500000\n",
       "max     988.000000"
      ]
     },
     "execution_count": 24,
     "metadata": {},
     "output_type": "execute_result"
    }
   ],
   "source": [
    "df.describe()"
   ]
  },
  {
   "cell_type": "code",
   "execution_count": 25,
   "id": "858883eb",
   "metadata": {},
   "outputs": [
    {
     "data": {
      "image/png": "[encoded data removed]",
      "text/plain": [
       "<Figure size 1152x648 with 1 Axes>"
      ]
     },
     "metadata": {},
     "output_type": "display_data"
    }
   ],
   "source": [
    "df.hist()\n",
    "plt.show()"
   ]
  },
  {
   "cell_type": "code",
   "execution_count": 26,
   "id": "85b68658",
   "metadata": {},
   "outputs": [
    {
     "name": "stderr",
     "output_type": "stream",
     "text": [
      "/home/calybeth/Escritorio/soft/entornos/lib/python3.10/site-packages/seaborn/categorical.py:3717: UserWarning: The `factorplot` function has been renamed to `catplot`. The original name will be removed in a future release. Please update your code. Note that the default `kind` in `factorplot` (`'point'`) has changed `'strip'` in `catplot`.\n",
      "  warnings.warn(msg)\n",
      "/home/calybeth/Escritorio/soft/entornos/lib/python3.10/site-packages/seaborn/_decorators.py:36: FutureWarning: Pass the following variable as a keyword arg: x. From version 0.12, the only valid positional argument will be `data`, and passing other arguments without an explicit keyword will result in an error or misinterpretation.\n",
      "  warnings.warn(\n"
     ]
    },
    {
     "data": {
      "text/plain": [
       "<seaborn.axisgrid.FacetGrid at 0x7f119fd87280>"
      ]
     },
     "execution_count": 26,
     "metadata": {},
     "output_type": "execute_result"
    },
    {
     "data": {
      "image/png": "[encoded data removed]",
      "text/plain": [
       "<Figure size 1080x360 with 1 Axes>"
      ]
     },
     "metadata": {},
     "output_type": "display_data"
    }
   ],
   "source": [
    "sb.factorplot('Sentiment',data=df,kind=\"count\", aspect=3)"
   ]
  },
  {
   "cell_type": "code",
   "execution_count": 27,
   "id": "1eaca5fd",
   "metadata": {},
   "outputs": [
    {
     "data": {
      "text/html": [
       "<div>\n",
       "<style scoped>\n",
       "    .dataframe tbody tr th:only-of-type {\n",
       "        vertical-align: middle;\n",
       "    }\n",
       "\n",
       "    .dataframe tbody tr th {\n",
       "        vertical-align: top;\n",
       "    }\n",
       "\n",
       "    .dataframe thead th {\n",
       "        text-align: right;\n",
       "    }\n",
       "</style>\n",
       "<table border=\"1\" class=\"dataframe\">\n",
       "  <thead>\n",
       "    <tr style=\"text-align: right;\">\n",
       "      <th></th>\n",
       "      <th>Unnamed: 0</th>\n",
       "      <th>Content</th>\n",
       "      <th>Sentiment</th>\n",
       "      <th>countW</th>\n",
       "    </tr>\n",
       "  </thead>\n",
       "  <tbody>\n",
       "    <tr>\n",
       "      <th>0</th>\n",
       "      <td>0</td>\n",
       "      <td>@NoilyMV yo soy totalmente puntual</td>\n",
       "      <td>NONE</td>\n",
       "      <td>5</td>\n",
       "    </tr>\n",
       "    <tr>\n",
       "      <th>1</th>\n",
       "      <td>1</td>\n",
       "      <td>@SandraCauffman Hola Sandrita. No le habia des...</td>\n",
       "      <td>P</td>\n",
       "      <td>25</td>\n",
       "    </tr>\n",
       "    <tr>\n",
       "      <th>2</th>\n",
       "      <td>2</td>\n",
       "      <td>Si andan haciendo eso mejor se quedaran callad...</td>\n",
       "      <td>N</td>\n",
       "      <td>22</td>\n",
       "    </tr>\n",
       "    <tr>\n",
       "      <th>3</th>\n",
       "      <td>3</td>\n",
       "      <td>Que pereza quiero choco banano</td>\n",
       "      <td>N</td>\n",
       "      <td>5</td>\n",
       "    </tr>\n",
       "    <tr>\n",
       "      <th>4</th>\n",
       "      <td>4</td>\n",
       "      <td>@robertobrenes Bueno, no es tanto lo mayor com...</td>\n",
       "      <td>N</td>\n",
       "      <td>24</td>\n",
       "    </tr>\n",
       "    <tr>\n",
       "      <th>...</th>\n",
       "      <td>...</td>\n",
       "      <td>...</td>\n",
       "      <td>...</td>\n",
       "      <td>...</td>\n",
       "    </tr>\n",
       "    <tr>\n",
       "      <th>3670</th>\n",
       "      <td>938</td>\n",
       "      <td>@AmorAKilates @Roocio_Mk si me pasa lo mismo!</td>\n",
       "      <td>NONE</td>\n",
       "      <td>7</td>\n",
       "    </tr>\n",
       "    <tr>\n",
       "      <th>3671</th>\n",
       "      <td>939</td>\n",
       "      <td>@clauchoarrionda pquno ladra y ls demas retwitean</td>\n",
       "      <td>NEU</td>\n",
       "      <td>7</td>\n",
       "    </tr>\n",
       "    <tr>\n",
       "      <th>3672</th>\n",
       "      <td>940</td>\n",
       "      <td>A mi desayuno le hizo falta un alfajor podrida...</td>\n",
       "      <td>N</td>\n",
       "      <td>14</td>\n",
       "    </tr>\n",
       "    <tr>\n",
       "      <th>3673</th>\n",
       "      <td>941</td>\n",
       "      <td>Viste cuando necesitas que alguien te escuche ...</td>\n",
       "      <td>N</td>\n",
       "      <td>13</td>\n",
       "    </tr>\n",
       "    <tr>\n",
       "      <th>3674</th>\n",
       "      <td>942</td>\n",
       "      <td>@cuervotinelli @candetinelli Mañana es mi prim...</td>\n",
       "      <td>NEU</td>\n",
       "      <td>14</td>\n",
       "    </tr>\n",
       "  </tbody>\n",
       "</table>\n",
       "<p>3675 rows × 4 columns</p>\n",
       "</div>"
      ],
      "text/plain": [
       "      Unnamed: 0                                            Content Sentiment  \\\n",
       "0              0                 @NoilyMV yo soy totalmente puntual      NONE   \n",
       "1              1  @SandraCauffman Hola Sandrita. No le habia des...         P   \n",
       "2              2  Si andan haciendo eso mejor se quedaran callad...         N   \n",
       "3              3                     Que pereza quiero choco banano         N   \n",
       "4              4  @robertobrenes Bueno, no es tanto lo mayor com...         N   \n",
       "...          ...                                                ...       ...   \n",
       "3670         938      @AmorAKilates @Roocio_Mk si me pasa lo mismo!      NONE   \n",
       "3671         939  @clauchoarrionda pquno ladra y ls demas retwitean       NEU   \n",
       "3672         940  A mi desayuno le hizo falta un alfajor podrida...         N   \n",
       "3673         941  Viste cuando necesitas que alguien te escuche ...         N   \n",
       "3674         942  @cuervotinelli @candetinelli Mañana es mi prim...       NEU   \n",
       "\n",
       "      countW  \n",
       "0          5  \n",
       "1         25  \n",
       "2         22  \n",
       "3          5  \n",
       "4         24  \n",
       "...      ...  \n",
       "3670       7  \n",
       "3671       7  \n",
       "3672      14  \n",
       "3673      13  \n",
       "3674      14  \n",
       "\n",
       "[3675 rows x 4 columns]"
      ]
     },
     "execution_count": 27,
     "metadata": {},
     "output_type": "execute_result"
    }
   ],
   "source": [
    "countW = []\n",
    "# Conteo de palabras\n",
    "for i in df.Content.tolist():\n",
    "    countW.append(len(i.split()))\n",
    "dfc = df.assign(countW = countW)\n",
    "dfc"
   ]
  },
  {
   "cell_type": "code",
   "execution_count": 28,
   "id": "146a9187",
   "metadata": {},
   "outputs": [],
   "source": [
    "#prepara los datos \n",
    "X = dfc[['countW']].values\n",
    "y = dfc['Sentiment'].values\n",
    "\n",
    "X_train, X_test, y_train, y_test = train_test_split(X, y, random_state=1)\n",
    "scaler = MinMaxScaler()\n",
    "X_train = scaler.fit_transform(X_train)\n",
    "X_test = scaler.transform(X_test)"
   ]
  },
  {
   "cell_type": "code",
   "execution_count": 29,
   "id": "196e2738",
   "metadata": {},
   "outputs": [
    {
     "name": "stdout",
     "output_type": "stream",
     "text": [
      "Accuracy of K-NN classifier on training set: 0.36\n",
      "Accuracy of K-NN classifier on test set: 0.37\n"
     ]
    }
   ],
   "source": [
    "#Se crea el clasificador\n",
    "n_neighbors = 16\n",
    "\n",
    "knn = KNeighborsClassifier(n_neighbors)\n",
    "knn.fit(X_train, y_train)\n",
    "print('Accuracy of K-NN classifier on training set: {:.2f}'\n",
    "     .format(knn.score(X_train, y_train)))\n",
    "print('Accuracy of K-NN classifier on test set: {:.2f}'\n",
    "     .format(knn.score(X_test, y_test)))"
   ]
  },
  {
   "cell_type": "code",
   "execution_count": 30,
   "id": "778dcc39",
   "metadata": {},
   "outputs": [
    {
     "name": "stdout",
     "output_type": "stream",
     "text": [
      "[[293  14   0  43]\n",
      " [107   5   0  22]\n",
      " [131  11   0  17]\n",
      " [226  11   0  39]]\n",
      "              precision    recall  f1-score   support\n",
      "\n",
      "           N       0.39      0.84      0.53       350\n",
      "         NEU       0.12      0.04      0.06       134\n",
      "        NONE       0.00      0.00      0.00       159\n",
      "           P       0.32      0.14      0.20       276\n",
      "\n",
      "    accuracy                           0.37       919\n",
      "   macro avg       0.21      0.25      0.20       919\n",
      "weighted avg       0.26      0.37      0.27       919\n",
      "\n"
     ]
    },
    {
     "name": "stderr",
     "output_type": "stream",
     "text": [
      "/home/calybeth/Escritorio/soft/entornos/lib/python3.10/site-packages/sklearn/metrics/_classification.py:1327: UndefinedMetricWarning: Precision and F-score are ill-defined and being set to 0.0 in labels with no predicted samples. Use `zero_division` parameter to control this behavior.\n",
      "  _warn_prf(average, modifier, msg_start, len(result))\n",
      "/home/calybeth/Escritorio/soft/entornos/lib/python3.10/site-packages/sklearn/metrics/_classification.py:1327: UndefinedMetricWarning: Precision and F-score are ill-defined and being set to 0.0 in labels with no predicted samples. Use `zero_division` parameter to control this behavior.\n",
      "  _warn_prf(average, modifier, msg_start, len(result))\n",
      "/home/calybeth/Escritorio/soft/entornos/lib/python3.10/site-packages/sklearn/metrics/_classification.py:1327: UndefinedMetricWarning: Precision and F-score are ill-defined and being set to 0.0 in labels with no predicted samples. Use `zero_division` parameter to control this behavior.\n",
      "  _warn_prf(average, modifier, msg_start, len(result))\n"
     ]
    }
   ],
   "source": [
    "#precision del modelo\n",
    "pred = knn.predict(X_test)\n",
    "print(confusion_matrix(y_test, pred))\n",
    "print(classification_report(y_test, pred))"
   ]
  },
  {
   "cell_type": "code",
   "execution_count": 31,
   "id": "6c33e313",
   "metadata": {},
   "outputs": [
    {
     "data": {
      "text/plain": [
       "([<matplotlib.axis.XTick at 0x7f11a0839210>,\n",
       "  <matplotlib.axis.XTick at 0x7f11a08391b0>,\n",
       "  <matplotlib.axis.XTick at 0x7f11a09ab160>,\n",
       "  <matplotlib.axis.XTick at 0x7f11a085d9f0>,\n",
       "  <matplotlib.axis.XTick at 0x7f11a085cf70>],\n",
       " [Text(0, 0, ''),\n",
       "  Text(0, 0, ''),\n",
       "  Text(0, 0, ''),\n",
       "  Text(0, 0, ''),\n",
       "  Text(0, 0, '')])"
      ]
     },
     "execution_count": 31,
     "metadata": {},
     "output_type": "execute_result"
    },
    {
     "data": {
      "image/png": "[encoded data removed]",
      "text/plain": [
       "<Figure size 1152x648 with 1 Axes>"
      ]
     },
     "metadata": {},
     "output_type": "display_data"
    }
   ],
   "source": [
    "#GRafica con clasificación obtenida con mayor precision en 16\n",
    "k_range = range(1, 20)\n",
    "scores = []\n",
    "for k in k_range:\n",
    "    knn = KNeighborsClassifier(n_neighbors = k)\n",
    "    knn.fit(X_train, y_train)\n",
    "    scores.append(knn.score(X_test, y_test))\n",
    "plt.figure()\n",
    "plt.xlabel('k')\n",
    "plt.ylabel('accuracy')\n",
    "plt.scatter(k_range, scores)\n",
    "plt.xticks([0,5,10,15,20])"
   ]
  },
  {
   "cell_type": "code",
   "execution_count": 34,
   "id": "2574d552",
   "metadata": {},
   "outputs": [],
   "source": [
    "import pickle"
   ]
  },
  {
   "cell_type": "code",
   "execution_count": 35,
   "id": "6e8e89cf",
   "metadata": {},
   "outputs": [],
   "source": [
    "pickle.dump(knn, open('ModelosAlgoritmos/knn_modelo.sav', 'wb'))\n"
   ]
  },
  {
   "cell_type": "code",
   "execution_count": null,
   "id": "b1c2bf4c",
   "metadata": {},
   "outputs": [],
   "source": [
    "#https://colab.research.google.com/github/romellfudi/LimaTweets_NLP_TFIDF/blob/master/Notebook.ipynb#scrollTo=flC9xelITdrw"
   ]
  }
 ],
 "metadata": {
  "kernelspec": {
   "display_name": "Python 3 (ipykernel)",
   "language": "python",
   "name": "python3"
  },
  "language_info": {
   "codemirror_mode": {
    "name": "ipython",
    "version": 3
   },
   "file_extension": ".py",
   "mimetype": "text/x-python",
   "name": "python",
   "nbconvert_exporter": "python",
   "pygments_lexer": "ipython3",
   "version": "3.10.4"
  }
 },
 "nbformat": 4,
 "nbformat_minor": 5
}
